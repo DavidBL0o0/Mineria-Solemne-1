{
  "cells": [
    {
      "cell_type": "code",
      "execution_count": 1,
      "metadata": {},
      "outputs": [],
      "source": [
        "import numpy as np\n",
        "import pandas as pd\n",
        "import matplotlib.pyplot as plt\n",
        "from datetime import datetime\n",
        "from google.cloud import bigquery"
      ]
    },
    {
      "cell_type": "code",
      "execution_count": 5,
      "metadata": {
        "id": "BtZd7ubVIkBs"
      },
      "outputs": [],
      "source": [
        "project_id = \"686172640179\"  # Reemplaza \"tu-id-de-proyecto\" con el ID de tu proyecto de Google Cloud\n",
        "\n",
        "client = bigquery.Client(project=project_id)"
      ]
    },
    {
      "cell_type": "markdown",
      "metadata": {
        "id": "ueI9hxVX0WyZ"
      },
      "source": [
        "# covid19_open_data"
      ]
    },
    {
      "cell_type": "code",
      "execution_count": 18,
      "metadata": {
        "colab": {
          "base_uri": "https://localhost:8080/"
        },
        "id": "NB6EByR8JXXn",
        "outputId": "41c6ea41-72ea-4190-a405-16beb5797a10"
      },
      "outputs": [
        {
          "ename": "NameError",
          "evalue": "name 'client' is not defined",
          "output_type": "error",
          "traceback": [
            "\u001b[1;31m---------------------------------------------------------------------------\u001b[0m",
            "\u001b[1;31mNameError\u001b[0m                                 Traceback (most recent call last)",
            "Cell \u001b[1;32mIn[18], line 1\u001b[0m\n\u001b[1;32m----> 1\u001b[0m dataset_ref \u001b[38;5;241m=\u001b[39m \u001b[43mclient\u001b[49m\u001b[38;5;241m.\u001b[39mdataset(\u001b[38;5;124m\"\u001b[39m\u001b[38;5;124mcovid19_open_data\u001b[39m\u001b[38;5;124m\"\u001b[39m, project \u001b[38;5;241m=\u001b[39m \u001b[38;5;124m\"\u001b[39m\u001b[38;5;124mbigquery-public-data\u001b[39m\u001b[38;5;124m\"\u001b[39m)\n\u001b[0;32m      2\u001b[0m tables \u001b[38;5;241m=\u001b[39m \u001b[38;5;28mlist\u001b[39m(client\u001b[38;5;241m.\u001b[39mlist_tables(dataset_ref))\n\u001b[0;32m      3\u001b[0m \u001b[38;5;28;01mfor\u001b[39;00m table \u001b[38;5;129;01min\u001b[39;00m tables:\n",
            "\u001b[1;31mNameError\u001b[0m: name 'client' is not defined"
          ]
        }
      ],
      "source": [
        "dataset_ref = client.dataset(\"covid19_open_data\", project = \"bigquery-public-data\")\n",
        "tables = list(client.list_tables(dataset_ref))\n",
        "for table in tables:\n",
        "    print(table.table_id)"
      ]
    },
    {
      "cell_type": "code",
      "execution_count": null,
      "metadata": {
        "id": "4GM1cZpXQY1B"
      },
      "outputs": [],
      "source": [
        "table_ref = dataset_ref.table(\"compatibility_view\")\n",
        "table = client.get_table(table_ref)"
      ]
    },
    {
      "cell_type": "code",
      "execution_count": null,
      "metadata": {
        "colab": {
          "base_uri": "https://localhost:8080/"
        },
        "id": "ZIrwWyVG1Jkj",
        "outputId": "39a2620a-35cf-44cc-e564-a062444ba282"
      },
      "outputs": [
        {
          "data": {
            "text/plain": [
              "Table(TableReference(DatasetReference('bigquery-public-data', 'covid19_open_data'), 'compatibility_view'))"
            ]
          },
          "execution_count": 135,
          "metadata": {},
          "output_type": "execute_result"
        }
      ],
      "source": [
        "table"
      ]
    },
    {
      "cell_type": "code",
      "execution_count": null,
      "metadata": {
        "id": "ZTQ-GHVB1Etw"
      },
      "outputs": [],
      "source": [
        "df = client.list_rows(table, max_results=10).to_dataframe()\n",
        "df"
      ]
    },
    {
      "cell_type": "markdown",
      "metadata": {
        "id": "402RmS-FzDSY"
      },
      "source": [
        "# covid19_vaccination_search_insights"
      ]
    },
    {
      "cell_type": "code",
      "execution_count": null,
      "metadata": {
        "colab": {
          "base_uri": "https://localhost:8080/"
        },
        "id": "nCws1Cqk0pyL",
        "outputId": "b339dce7-daa5-45a2-d240-2cf93368466b"
      },
      "outputs": [
        {
          "name": "stdout",
          "output_type": "stream",
          "text": [
            "covid19_vaccination_search_insights\n"
          ]
        }
      ],
      "source": [
        "dataset_ref = client.dataset(\"covid19_vaccination_search_insights\", project = \"bigquery-public-data\")\n",
        "tables = list(client.list_tables(dataset_ref))\n",
        "for table in tables:\n",
        "    print(table.table_id)"
      ]
    },
    {
      "cell_type": "markdown",
      "metadata": {
        "id": "5oe9pRTBCoZW"
      },
      "source": [
        "# bigquery-public-data.covid19_tracking"
      ]
    },
    {
      "cell_type": "code",
      "execution_count": 6,
      "metadata": {
        "colab": {
          "base_uri": "https://localhost:8080/"
        },
        "id": "nSsYPZiFCqJ3",
        "outputId": "df1f9a60-ef88-474b-87e3-dc49c481ae15"
      },
      "outputs": [
        {
          "name": "stdout",
          "output_type": "stream",
          "text": [
            "city_level_cases_and_deaths\n",
            "covid_racial_data_tracker\n",
            "national_testing_and_outcomes\n",
            "state_facility_level_long_term_care\n",
            "state_level_aggregate_long_term_care\n",
            "state_level_cumulative_long_term_care\n",
            "state_level_current_outbreak_long_term_care\n",
            "state_screenshots\n",
            "state_testing_and_outcomes\n"
          ]
        }
      ],
      "source": [
        "dataset_ref = client.dataset(\"covid19_tracking\", project = \"bigquery-public-data\")\n",
        "tables = list(client.list_tables(dataset_ref))\n",
        "for table in tables:\n",
        "    print(table.table_id)"
      ]
    },
    {
      "cell_type": "code",
      "execution_count": null,
      "metadata": {
        "id": "N07Zm_F9DMDI"
      },
      "outputs": [],
      "source": [
        "table_ref = dataset_ref.table(\"covid_racial_data_tracker\")\n",
        "table = client.get_table(table_ref)\n",
        "df = client.list_rows(table, max_results=5323).to_dataframe()"
      ]
    },
    {
      "cell_type": "markdown",
      "metadata": {
        "id": "OS2JiMuW07M0"
      },
      "source": [
        "# Todo"
      ]
    },
    {
      "cell_type": "code",
      "execution_count": null,
      "metadata": {
        "colab": {
          "base_uri": "https://localhost:8080/"
        },
        "id": "yoCZiFX6FrJI",
        "outputId": "ac5913b7-0e65-43f5-b1f1-98f9d83f890c"
      },
      "outputs": [
        {
          "name": "stdout",
          "output_type": "stream",
          "text": [
            "Hay 56 países distintos en el DataFrame:\n",
            "['AK' 'AL' 'AR' 'AZ' 'CA' 'CO' 'CT' 'DC' 'DE' 'FL' 'GA' 'GU' 'HI' 'IA'\n",
            " 'ID' 'IL' 'IN' 'KS' 'KY' 'LA' 'MA' 'MD' 'ME' 'MI' 'MN' 'MO' 'MS' 'MT'\n",
            " 'NC' 'ND' 'NE' 'NH' 'NJ' 'NM' 'NV' 'OH' 'OK' 'OR' 'PA' 'RI' 'SC' 'SD'\n",
            " 'TN' 'TX' 'UT' 'VA' 'VT' 'WA' 'WI' 'WV' 'WY' 'AS' 'MP' 'NY' 'PR' 'VI']\n"
          ]
        }
      ],
      "source": [
        "estados = df[\"state\"].unique()\n",
        "print(f\"Hay {len(estados)} países distintos en el DataFrame:\")\n",
        "print(estados)"
      ]
    },
    {
      "cell_type": "code",
      "execution_count": null,
      "metadata": {
        "id": "l5Dq6gJAl0Bs"
      },
      "outputs": [],
      "source": [
        "estados = {}\n",
        "estados_distintos = df[\"state\"].unique()\n",
        "estados_filtro = {}\n",
        "fecha = {}\n",
        "estados_filtro_diff = {}\n",
        "for estado in estados_distintos:\n",
        "    estados[estado] = df.loc[df[\"state\"] == estado]\n",
        "    estados_filtro[estado] = estados[estado][[\"date\", \"cases_white\", \"cases_black\",\"cases_ethnicity_hispanic\", \"deaths_white\", \"deaths_black\",\"deaths_ethnicity_hispanic\", \"hosp_white\", \"hosp_black\",\"hosp_ethnicity_hispanic\"]]\n",
        "    estados_filtro[estado] = estados_filtro[estado].sort_values(by='date')\n",
        "    estados_filtro_diff[estado] = estados_filtro[estado].diff()\n",
        "\n"
      ]
    },
    {
      "cell_type": "code",
      "execution_count": null,
      "metadata": {
        "colab": {
          "base_uri": "https://localhost:8080/",
          "height": 617
        },
        "id": "cqM-Ndv8JAhF",
        "outputId": "ff7b6f5c-f6fd-462f-85cd-e075ee9a10d8"
      },
      "outputs": [
        {
          "data": {
            "application/vnd.google.colaboratory.intrinsic+json": {
              "summary": "{\n  \"name\": \"estados_filtro[\\\"AR\\\"]\",\n  \"rows\": 95,\n  \"fields\": [\n    {\n      \"column\": \"date\",\n      \"properties\": {\n        \"dtype\": \"dbdate\",\n        \"num_unique_values\": 95,\n        \"samples\": [\n          \"2020-12-06\",\n          \"2020-06-28\",\n          \"2020-12-20\"\n        ],\n        \"semantic_type\": \"\",\n        \"description\": \"\"\n      }\n    },\n    {\n      \"column\": \"cases_white\",\n      \"properties\": {\n        \"dtype\": \"Int64\",\n        \"num_unique_values\": 95,\n        \"samples\": [\n          105631,\n          9148,\n          126435\n        ],\n        \"semantic_type\": \"\",\n        \"description\": \"\"\n      }\n    },\n    {\n      \"column\": \"cases_black\",\n      \"properties\": {\n        \"dtype\": \"Int64\",\n        \"num_unique_values\": 95,\n        \"samples\": [\n          30253,\n          4476,\n          34684\n        ],\n        \"semantic_type\": \"\",\n        \"description\": \"\"\n      }\n    },\n    {\n      \"column\": \"cases_ethnicity_hispanic\",\n      \"properties\": {\n        \"dtype\": \"Int64\",\n        \"num_unique_values\": 92,\n        \"samples\": [\n          13805,\n          6238,\n          17410\n        ],\n        \"semantic_type\": \"\",\n        \"description\": \"\"\n      }\n    },\n    {\n      \"column\": \"deaths_white\",\n      \"properties\": {\n        \"dtype\": \"Int64\",\n        \"num_unique_values\": 92,\n        \"samples\": [\n          594,\n          165,\n          1290\n        ],\n        \"semantic_type\": \"\",\n        \"description\": \"\"\n      }\n    },\n    {\n      \"column\": \"deaths_black\",\n      \"properties\": {\n        \"dtype\": \"Int64\",\n        \"num_unique_values\": 90,\n        \"samples\": [\n          224,\n          87,\n          358\n        ],\n        \"semantic_type\": \"\",\n        \"description\": \"\"\n      }\n    },\n    {\n      \"column\": \"deaths_ethnicity_hispanic\",\n      \"properties\": {\n        \"dtype\": \"Int64\",\n        \"num_unique_values\": 69,\n        \"samples\": [\n          54,\n          3,\n          118\n        ],\n        \"semantic_type\": \"\",\n        \"description\": \"\"\n      }\n    },\n    {\n      \"column\": \"hosp_white\",\n      \"properties\": {\n        \"dtype\": \"Int64\",\n        \"num_unique_values\": 0,\n        \"samples\": [],\n        \"semantic_type\": \"\",\n        \"description\": \"\"\n      }\n    },\n    {\n      \"column\": \"hosp_black\",\n      \"properties\": {\n        \"dtype\": \"Int64\",\n        \"num_unique_values\": 0,\n        \"samples\": [],\n        \"semantic_type\": \"\",\n        \"description\": \"\"\n      }\n    },\n    {\n      \"column\": \"hosp_ethnicity_hispanic\",\n      \"properties\": {\n        \"dtype\": \"Int64\",\n        \"num_unique_values\": 0,\n        \"samples\": [],\n        \"semantic_type\": \"\",\n        \"description\": \"\"\n      }\n    }\n  ]\n}",
              "type": "dataframe"
            },
            "text/html": [
              "\n",
              "  <div id=\"df-3ebd6204-e2e5-45c0-a33c-100ce782d237\" class=\"colab-df-container\">\n",
              "    <div>\n",
              "<style scoped>\n",
              "    .dataframe tbody tr th:only-of-type {\n",
              "        vertical-align: middle;\n",
              "    }\n",
              "\n",
              "    .dataframe tbody tr th {\n",
              "        vertical-align: top;\n",
              "    }\n",
              "\n",
              "    .dataframe thead th {\n",
              "        text-align: right;\n",
              "    }\n",
              "</style>\n",
              "<table border=\"1\" class=\"dataframe\">\n",
              "  <thead>\n",
              "    <tr style=\"text-align: right;\">\n",
              "      <th></th>\n",
              "      <th>date</th>\n",
              "      <th>cases_white</th>\n",
              "      <th>cases_black</th>\n",
              "      <th>cases_ethnicity_hispanic</th>\n",
              "      <th>deaths_white</th>\n",
              "      <th>deaths_black</th>\n",
              "      <th>deaths_ethnicity_hispanic</th>\n",
              "      <th>hosp_white</th>\n",
              "      <th>hosp_black</th>\n",
              "      <th>hosp_ethnicity_hispanic</th>\n",
              "    </tr>\n",
              "  </thead>\n",
              "  <tbody>\n",
              "    <tr>\n",
              "      <th>283</th>\n",
              "      <td>2020-04-12</td>\n",
              "      <td>814</td>\n",
              "      <td>324</td>\n",
              "      <td>&lt;NA&gt;</td>\n",
              "      <td>&lt;NA&gt;</td>\n",
              "      <td>&lt;NA&gt;</td>\n",
              "      <td>&lt;NA&gt;</td>\n",
              "      <td>&lt;NA&gt;</td>\n",
              "      <td>&lt;NA&gt;</td>\n",
              "      <td>&lt;NA&gt;</td>\n",
              "    </tr>\n",
              "    <tr>\n",
              "      <th>282</th>\n",
              "      <td>2020-04-15</td>\n",
              "      <td>945</td>\n",
              "      <td>441</td>\n",
              "      <td>&lt;NA&gt;</td>\n",
              "      <td>&lt;NA&gt;</td>\n",
              "      <td>&lt;NA&gt;</td>\n",
              "      <td>&lt;NA&gt;</td>\n",
              "      <td>&lt;NA&gt;</td>\n",
              "      <td>&lt;NA&gt;</td>\n",
              "      <td>&lt;NA&gt;</td>\n",
              "    </tr>\n",
              "    <tr>\n",
              "      <th>281</th>\n",
              "      <td>2020-04-19</td>\n",
              "      <td>1049</td>\n",
              "      <td>511</td>\n",
              "      <td>&lt;NA&gt;</td>\n",
              "      <td>23</td>\n",
              "      <td>14</td>\n",
              "      <td>&lt;NA&gt;</td>\n",
              "      <td>&lt;NA&gt;</td>\n",
              "      <td>&lt;NA&gt;</td>\n",
              "      <td>&lt;NA&gt;</td>\n",
              "    </tr>\n",
              "    <tr>\n",
              "      <th>280</th>\n",
              "      <td>2020-04-22</td>\n",
              "      <td>1179</td>\n",
              "      <td>654</td>\n",
              "      <td>86</td>\n",
              "      <td>25</td>\n",
              "      <td>14</td>\n",
              "      <td>&lt;NA&gt;</td>\n",
              "      <td>&lt;NA&gt;</td>\n",
              "      <td>&lt;NA&gt;</td>\n",
              "      <td>&lt;NA&gt;</td>\n",
              "    </tr>\n",
              "    <tr>\n",
              "      <th>279</th>\n",
              "      <td>2020-04-26</td>\n",
              "      <td>1340</td>\n",
              "      <td>808</td>\n",
              "      <td>107</td>\n",
              "      <td>29</td>\n",
              "      <td>16</td>\n",
              "      <td>&lt;NA&gt;</td>\n",
              "      <td>&lt;NA&gt;</td>\n",
              "      <td>&lt;NA&gt;</td>\n",
              "      <td>&lt;NA&gt;</td>\n",
              "    </tr>\n",
              "    <tr>\n",
              "      <th>...</th>\n",
              "      <td>...</td>\n",
              "      <td>...</td>\n",
              "      <td>...</td>\n",
              "      <td>...</td>\n",
              "      <td>...</td>\n",
              "      <td>...</td>\n",
              "      <td>...</td>\n",
              "      <td>...</td>\n",
              "      <td>...</td>\n",
              "      <td>...</td>\n",
              "    </tr>\n",
              "    <tr>\n",
              "      <th>193</th>\n",
              "      <td>2021-02-21</td>\n",
              "      <td>202390</td>\n",
              "      <td>49787</td>\n",
              "      <td>33789</td>\n",
              "      <td>4188</td>\n",
              "      <td>799</td>\n",
              "      <td>182</td>\n",
              "      <td>&lt;NA&gt;</td>\n",
              "      <td>&lt;NA&gt;</td>\n",
              "      <td>&lt;NA&gt;</td>\n",
              "    </tr>\n",
              "    <tr>\n",
              "      <th>192</th>\n",
              "      <td>2021-02-24</td>\n",
              "      <td>203622</td>\n",
              "      <td>50017</td>\n",
              "      <td>33915</td>\n",
              "      <td>4207</td>\n",
              "      <td>806</td>\n",
              "      <td>183</td>\n",
              "      <td>&lt;NA&gt;</td>\n",
              "      <td>&lt;NA&gt;</td>\n",
              "      <td>&lt;NA&gt;</td>\n",
              "    </tr>\n",
              "    <tr>\n",
              "      <th>191</th>\n",
              "      <td>2021-02-28</td>\n",
              "      <td>205690</td>\n",
              "      <td>50508</td>\n",
              "      <td>34096</td>\n",
              "      <td>4113</td>\n",
              "      <td>773</td>\n",
              "      <td>178</td>\n",
              "      <td>&lt;NA&gt;</td>\n",
              "      <td>&lt;NA&gt;</td>\n",
              "      <td>&lt;NA&gt;</td>\n",
              "    </tr>\n",
              "    <tr>\n",
              "      <th>190</th>\n",
              "      <td>2021-03-03</td>\n",
              "      <td>206422</td>\n",
              "      <td>50642</td>\n",
              "      <td>34179</td>\n",
              "      <td>4126</td>\n",
              "      <td>778</td>\n",
              "      <td>178</td>\n",
              "      <td>&lt;NA&gt;</td>\n",
              "      <td>&lt;NA&gt;</td>\n",
              "      <td>&lt;NA&gt;</td>\n",
              "    </tr>\n",
              "    <tr>\n",
              "      <th>189</th>\n",
              "      <td>2021-03-07</td>\n",
              "      <td>207596</td>\n",
              "      <td>50842</td>\n",
              "      <td>34332</td>\n",
              "      <td>4171</td>\n",
              "      <td>784</td>\n",
              "      <td>186</td>\n",
              "      <td>&lt;NA&gt;</td>\n",
              "      <td>&lt;NA&gt;</td>\n",
              "      <td>&lt;NA&gt;</td>\n",
              "    </tr>\n",
              "  </tbody>\n",
              "</table>\n",
              "<p>95 rows × 10 columns</p>\n",
              "</div>\n",
              "    <div class=\"colab-df-buttons\">\n",
              "\n",
              "  <div class=\"colab-df-container\">\n",
              "    <button class=\"colab-df-convert\" onclick=\"convertToInteractive('df-3ebd6204-e2e5-45c0-a33c-100ce782d237')\"\n",
              "            title=\"Convert this dataframe to an interactive table.\"\n",
              "            style=\"display:none;\">\n",
              "\n",
              "  <svg xmlns=\"http://www.w3.org/2000/svg\" height=\"24px\" viewBox=\"0 -960 960 960\">\n",
              "    <path d=\"M120-120v-720h720v720H120Zm60-500h600v-160H180v160Zm220 220h160v-160H400v160Zm0 220h160v-160H400v160ZM180-400h160v-160H180v160Zm440 0h160v-160H620v160ZM180-180h160v-160H180v160Zm440 0h160v-160H620v160Z\"/>\n",
              "  </svg>\n",
              "    </button>\n",
              "\n",
              "  <style>\n",
              "    .colab-df-container {\n",
              "      display:flex;\n",
              "      gap: 12px;\n",
              "    }\n",
              "\n",
              "    .colab-df-convert {\n",
              "      background-color: #E8F0FE;\n",
              "      border: none;\n",
              "      border-radius: 50%;\n",
              "      cursor: pointer;\n",
              "      display: none;\n",
              "      fill: #1967D2;\n",
              "      height: 32px;\n",
              "      padding: 0 0 0 0;\n",
              "      width: 32px;\n",
              "    }\n",
              "\n",
              "    .colab-df-convert:hover {\n",
              "      background-color: #E2EBFA;\n",
              "      box-shadow: 0px 1px 2px rgba(60, 64, 67, 0.3), 0px 1px 3px 1px rgba(60, 64, 67, 0.15);\n",
              "      fill: #174EA6;\n",
              "    }\n",
              "\n",
              "    .colab-df-buttons div {\n",
              "      margin-bottom: 4px;\n",
              "    }\n",
              "\n",
              "    [theme=dark] .colab-df-convert {\n",
              "      background-color: #3B4455;\n",
              "      fill: #D2E3FC;\n",
              "    }\n",
              "\n",
              "    [theme=dark] .colab-df-convert:hover {\n",
              "      background-color: #434B5C;\n",
              "      box-shadow: 0px 1px 3px 1px rgba(0, 0, 0, 0.15);\n",
              "      filter: drop-shadow(0px 1px 2px rgba(0, 0, 0, 0.3));\n",
              "      fill: #FFFFFF;\n",
              "    }\n",
              "  </style>\n",
              "\n",
              "    <script>\n",
              "      const buttonEl =\n",
              "        document.querySelector('#df-3ebd6204-e2e5-45c0-a33c-100ce782d237 button.colab-df-convert');\n",
              "      buttonEl.style.display =\n",
              "        google.colab.kernel.accessAllowed ? 'block' : 'none';\n",
              "\n",
              "      async function convertToInteractive(key) {\n",
              "        const element = document.querySelector('#df-3ebd6204-e2e5-45c0-a33c-100ce782d237');\n",
              "        const dataTable =\n",
              "          await google.colab.kernel.invokeFunction('convertToInteractive',\n",
              "                                                    [key], {});\n",
              "        if (!dataTable) return;\n",
              "\n",
              "        const docLinkHtml = 'Like what you see? Visit the ' +\n",
              "          '<a target=\"_blank\" href=https://colab.research.google.com/notebooks/data_table.ipynb>data table notebook</a>'\n",
              "          + ' to learn more about interactive tables.';\n",
              "        element.innerHTML = '';\n",
              "        dataTable['output_type'] = 'display_data';\n",
              "        await google.colab.output.renderOutput(dataTable, element);\n",
              "        const docLink = document.createElement('div');\n",
              "        docLink.innerHTML = docLinkHtml;\n",
              "        element.appendChild(docLink);\n",
              "      }\n",
              "    </script>\n",
              "  </div>\n",
              "\n",
              "\n",
              "<div id=\"df-577c6828-0154-4373-9c73-75c43a2a4b04\">\n",
              "  <button class=\"colab-df-quickchart\" onclick=\"quickchart('df-577c6828-0154-4373-9c73-75c43a2a4b04')\"\n",
              "            title=\"Suggest charts\"\n",
              "            style=\"display:none;\">\n",
              "\n",
              "<svg xmlns=\"http://www.w3.org/2000/svg\" height=\"24px\"viewBox=\"0 0 24 24\"\n",
              "     width=\"24px\">\n",
              "    <g>\n",
              "        <path d=\"M19 3H5c-1.1 0-2 .9-2 2v14c0 1.1.9 2 2 2h14c1.1 0 2-.9 2-2V5c0-1.1-.9-2-2-2zM9 17H7v-7h2v7zm4 0h-2V7h2v10zm4 0h-2v-4h2v4z\"/>\n",
              "    </g>\n",
              "</svg>\n",
              "  </button>\n",
              "\n",
              "<style>\n",
              "  .colab-df-quickchart {\n",
              "      --bg-color: #E8F0FE;\n",
              "      --fill-color: #1967D2;\n",
              "      --hover-bg-color: #E2EBFA;\n",
              "      --hover-fill-color: #174EA6;\n",
              "      --disabled-fill-color: #AAA;\n",
              "      --disabled-bg-color: #DDD;\n",
              "  }\n",
              "\n",
              "  [theme=dark] .colab-df-quickchart {\n",
              "      --bg-color: #3B4455;\n",
              "      --fill-color: #D2E3FC;\n",
              "      --hover-bg-color: #434B5C;\n",
              "      --hover-fill-color: #FFFFFF;\n",
              "      --disabled-bg-color: #3B4455;\n",
              "      --disabled-fill-color: #666;\n",
              "  }\n",
              "\n",
              "  .colab-df-quickchart {\n",
              "    background-color: var(--bg-color);\n",
              "    border: none;\n",
              "    border-radius: 50%;\n",
              "    cursor: pointer;\n",
              "    display: none;\n",
              "    fill: var(--fill-color);\n",
              "    height: 32px;\n",
              "    padding: 0;\n",
              "    width: 32px;\n",
              "  }\n",
              "\n",
              "  .colab-df-quickchart:hover {\n",
              "    background-color: var(--hover-bg-color);\n",
              "    box-shadow: 0 1px 2px rgba(60, 64, 67, 0.3), 0 1px 3px 1px rgba(60, 64, 67, 0.15);\n",
              "    fill: var(--button-hover-fill-color);\n",
              "  }\n",
              "\n",
              "  .colab-df-quickchart-complete:disabled,\n",
              "  .colab-df-quickchart-complete:disabled:hover {\n",
              "    background-color: var(--disabled-bg-color);\n",
              "    fill: var(--disabled-fill-color);\n",
              "    box-shadow: none;\n",
              "  }\n",
              "\n",
              "  .colab-df-spinner {\n",
              "    border: 2px solid var(--fill-color);\n",
              "    border-color: transparent;\n",
              "    border-bottom-color: var(--fill-color);\n",
              "    animation:\n",
              "      spin 1s steps(1) infinite;\n",
              "  }\n",
              "\n",
              "  @keyframes spin {\n",
              "    0% {\n",
              "      border-color: transparent;\n",
              "      border-bottom-color: var(--fill-color);\n",
              "      border-left-color: var(--fill-color);\n",
              "    }\n",
              "    20% {\n",
              "      border-color: transparent;\n",
              "      border-left-color: var(--fill-color);\n",
              "      border-top-color: var(--fill-color);\n",
              "    }\n",
              "    30% {\n",
              "      border-color: transparent;\n",
              "      border-left-color: var(--fill-color);\n",
              "      border-top-color: var(--fill-color);\n",
              "      border-right-color: var(--fill-color);\n",
              "    }\n",
              "    40% {\n",
              "      border-color: transparent;\n",
              "      border-right-color: var(--fill-color);\n",
              "      border-top-color: var(--fill-color);\n",
              "    }\n",
              "    60% {\n",
              "      border-color: transparent;\n",
              "      border-right-color: var(--fill-color);\n",
              "    }\n",
              "    80% {\n",
              "      border-color: transparent;\n",
              "      border-right-color: var(--fill-color);\n",
              "      border-bottom-color: var(--fill-color);\n",
              "    }\n",
              "    90% {\n",
              "      border-color: transparent;\n",
              "      border-bottom-color: var(--fill-color);\n",
              "    }\n",
              "  }\n",
              "</style>\n",
              "\n",
              "  <script>\n",
              "    async function quickchart(key) {\n",
              "      const quickchartButtonEl =\n",
              "        document.querySelector('#' + key + ' button');\n",
              "      quickchartButtonEl.disabled = true;  // To prevent multiple clicks.\n",
              "      quickchartButtonEl.classList.add('colab-df-spinner');\n",
              "      try {\n",
              "        const charts = await google.colab.kernel.invokeFunction(\n",
              "            'suggestCharts', [key], {});\n",
              "      } catch (error) {\n",
              "        console.error('Error during call to suggestCharts:', error);\n",
              "      }\n",
              "      quickchartButtonEl.classList.remove('colab-df-spinner');\n",
              "      quickchartButtonEl.classList.add('colab-df-quickchart-complete');\n",
              "    }\n",
              "    (() => {\n",
              "      let quickchartButtonEl =\n",
              "        document.querySelector('#df-577c6828-0154-4373-9c73-75c43a2a4b04 button');\n",
              "      quickchartButtonEl.style.display =\n",
              "        google.colab.kernel.accessAllowed ? 'block' : 'none';\n",
              "    })();\n",
              "  </script>\n",
              "</div>\n",
              "\n",
              "    </div>\n",
              "  </div>\n"
            ],
            "text/plain": [
              "           date  cases_white  cases_black  cases_ethnicity_hispanic  \\\n",
              "283  2020-04-12          814          324                      <NA>   \n",
              "282  2020-04-15          945          441                      <NA>   \n",
              "281  2020-04-19         1049          511                      <NA>   \n",
              "280  2020-04-22         1179          654                        86   \n",
              "279  2020-04-26         1340          808                       107   \n",
              "..          ...          ...          ...                       ...   \n",
              "193  2021-02-21       202390        49787                     33789   \n",
              "192  2021-02-24       203622        50017                     33915   \n",
              "191  2021-02-28       205690        50508                     34096   \n",
              "190  2021-03-03       206422        50642                     34179   \n",
              "189  2021-03-07       207596        50842                     34332   \n",
              "\n",
              "     deaths_white  deaths_black  deaths_ethnicity_hispanic  hosp_white  \\\n",
              "283          <NA>          <NA>                       <NA>        <NA>   \n",
              "282          <NA>          <NA>                       <NA>        <NA>   \n",
              "281            23            14                       <NA>        <NA>   \n",
              "280            25            14                       <NA>        <NA>   \n",
              "279            29            16                       <NA>        <NA>   \n",
              "..            ...           ...                        ...         ...   \n",
              "193          4188           799                        182        <NA>   \n",
              "192          4207           806                        183        <NA>   \n",
              "191          4113           773                        178        <NA>   \n",
              "190          4126           778                        178        <NA>   \n",
              "189          4171           784                        186        <NA>   \n",
              "\n",
              "     hosp_black  hosp_ethnicity_hispanic  \n",
              "283        <NA>                     <NA>  \n",
              "282        <NA>                     <NA>  \n",
              "281        <NA>                     <NA>  \n",
              "280        <NA>                     <NA>  \n",
              "279        <NA>                     <NA>  \n",
              "..          ...                      ...  \n",
              "193        <NA>                     <NA>  \n",
              "192        <NA>                     <NA>  \n",
              "191        <NA>                     <NA>  \n",
              "190        <NA>                     <NA>  \n",
              "189        <NA>                     <NA>  \n",
              "\n",
              "[95 rows x 10 columns]"
            ]
          },
          "execution_count": 300,
          "metadata": {},
          "output_type": "execute_result"
        }
      ],
      "source": [
        "estados_filtro[\"AR\"]"
      ]
    },
    {
      "cell_type": "code",
      "execution_count": null,
      "metadata": {
        "colab": {
          "base_uri": "https://localhost:8080/"
        },
        "id": "0vtHvbIfiUDP",
        "outputId": "cc871844-24bc-417f-f859-509f6c0a90d0"
      },
      "outputs": [
        {
          "data": {
            "text/plain": [
              "283    <NA>\n",
              "282    <NA>\n",
              "281      23\n",
              "280      25\n",
              "279      29\n",
              "       ... \n",
              "193    4188\n",
              "192    4207\n",
              "191    4113\n",
              "190    4126\n",
              "189    4171\n",
              "Name: deaths_white, Length: 95, dtype: Int64"
            ]
          },
          "execution_count": 303,
          "metadata": {},
          "output_type": "execute_result"
        }
      ],
      "source": [
        "estados_filtro[\"AR\"][\"deaths_white\"]"
      ]
    },
    {
      "cell_type": "code",
      "execution_count": null,
      "metadata": {
        "id": "DnWBfOuva6W8"
      },
      "outputs": [],
      "source": [
        "plt.figure(figsize=(12, 6))\n",
        "cual = \"AR\"\n",
        "plt.plot(estados_filtro[cual][\"date\"][1:],estados_filtro_diff[cual]['cases_white'][1:], marker='.', linestyle='-')\n",
        "plt.plot(estados_filtro[cual][\"date\"][1:],estados_filtro_diff[cual]['deaths_white'][1:], marker='.', linestyle='-')\n",
        "plt.grid(True)\n",
        "plt.show()"
      ]
    },
    {
      "cell_type": "code",
      "execution_count": null,
      "metadata": {
        "colab": {
          "base_uri": "https://localhost:8080/",
          "height": 522
        },
        "id": "dHd4CvdnuPlR",
        "outputId": "27c89131-6d09-4a72-9798-3be9a4a0285e"
      },
      "outputs": [
        {
          "data": {
            "image/png": "[encoded data removed]",
            "text/plain": [
              "<Figure size 1200x600 with 1 Axes>"
            ]
          },
          "metadata": {},
          "output_type": "display_data"
        }
      ],
      "source": [
        "data_cleaned = estados_filtro_diff[\"AR\"].dropna(subset=['cases_white'])\n",
        "\n",
        "# Graficar 'cases_white' y 'estados_filtro[\"AR\"][\"date\"]' en el eje x\n",
        "plt.figure(figsize=(12, 6))\n",
        "plt.plot(estados_filtro[\"AR\"]['date'][1:], data_cleaned['cases_white'], marker='.', linestyle='None')\n",
        "plt.grid(True)\n",
        "plt.show()"
      ]
    },
    {
      "cell_type": "code",
      "execution_count": null,
      "metadata": {
        "colab": {
          "base_uri": "https://localhost:8080/"
        },
        "id": "m687gplzkIE8",
        "outputId": "8434e501-2432-4af9-bab7-e0dd7005ed5e"
      },
      "outputs": [
        {
          "data": {
            "text/plain": [
              "95"
            ]
          },
          "execution_count": 304,
          "metadata": {},
          "output_type": "execute_result"
        }
      ],
      "source": [
        "len(estados_filtro[cual][\"date\"])"
      ]
    },
    {
      "cell_type": "code",
      "execution_count": null,
      "metadata": {
        "id": "Xty0uODgkJZY"
      },
      "outputs": [],
      "source": []
    }
  ],
  "metadata": {
    "colab": {
      "provenance": []
    },
    "kernelspec": {
      "display_name": "Python 3",
      "name": "python3"
    },
    "language_info": {
      "codemirror_mode": {
        "name": "ipython",
        "version": 3
      },
      "file_extension": ".py",
      "mimetype": "text/x-python",
      "name": "python",
      "nbconvert_exporter": "python",
      "pygments_lexer": "ipython3",
      "version": "3.12.2"
    }
  },
  "nbformat": 4,
  "nbformat_minor": 0
}
